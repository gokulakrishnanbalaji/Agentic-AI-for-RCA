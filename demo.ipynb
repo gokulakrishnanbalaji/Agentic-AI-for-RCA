{
 "cells": [
  {
   "cell_type": "markdown",
   "id": "b31be1a0",
   "metadata": {},
   "source": [
    "## Importing Libraries"
   ]
  },
  {
   "cell_type": "code",
   "execution_count": 7,
   "id": "c58dc064",
   "metadata": {},
   "outputs": [],
   "source": [
    "import os\n",
    "import re\n",
    "import json\n",
    "from dotenv import load_dotenv\n",
    "import chromadb\n",
    "from sentence_transformers import SentenceTransformer\n",
    "from chromadb.utils.embedding_functions import SentenceTransformerEmbeddingFunction\n",
    "import google.generativeai as genai"
   ]
  },
  {
   "cell_type": "markdown",
   "id": "8b0d134a",
   "metadata": {},
   "source": [
    "## Loading env variables"
   ]
  },
  {
   "cell_type": "code",
   "execution_count": 2,
   "id": "dfae1eb8",
   "metadata": {},
   "outputs": [],
   "source": [
    "# Load environment variables\n",
    "load_dotenv()\n",
    "GEMINI_API_KEY = os.getenv(\"GEMINI_API_KEY\")"
   ]
  },
  {
   "cell_type": "markdown",
   "id": "fa0b7c89",
   "metadata": {},
   "source": [
    "## Set up embedding using Sentence transformer"
   ]
  },
  {
   "cell_type": "code",
   "execution_count": 3,
   "id": "f4cd7e27",
   "metadata": {},
   "outputs": [],
   "source": [
    "embedding_fn = SentenceTransformerEmbeddingFunction(model_name=\"all-MiniLM-L6-v2\")"
   ]
  },
  {
   "cell_type": "markdown",
   "id": "4afdf2d6",
   "metadata": {},
   "source": [
    "## Set up chroma db"
   ]
  },
  {
   "cell_type": "code",
   "execution_count": 4,
   "id": "b5a0c5a6",
   "metadata": {},
   "outputs": [],
   "source": [
    "client = chromadb.Client()\n",
    "collection = client.get_or_create_collection(name=\"rca_patterns\", embedding_function=embedding_fn)"
   ]
  },
  {
   "cell_type": "markdown",
   "id": "3b80d240",
   "metadata": {},
   "source": [
    "## Set up Gemini 1.5 Flash"
   ]
  },
  {
   "cell_type": "code",
   "execution_count": 5,
   "id": "d0f8d195",
   "metadata": {},
   "outputs": [],
   "source": [
    "genai.configure(api_key=GEMINI_API_KEY)\n",
    "gemini_model = genai.GenerativeModel(\"gemini-1.5-flash\")"
   ]
  },
  {
   "cell_type": "markdown",
   "id": "b18c690b",
   "metadata": {},
   "source": [
    "## Load data.json into ChromaDB (if DB is empty)"
   ]
  },
  {
   "cell_type": "code",
   "execution_count": 8,
   "id": "5182677a",
   "metadata": {},
   "outputs": [
    {
     "name": "stdout",
     "output_type": "stream",
     "text": [
      "✅ Loaded initial data from data.json\n"
     ]
    },
    {
     "name": "stderr",
     "output_type": "stream",
     "text": [
      "/Users/gokul/miniconda3/envs/rca/lib/python3.13/site-packages/torch/nn/modules/module.py:1762: FutureWarning: `encoder_attention_mask` is deprecated and will be removed in version 4.55.0 for `BertSdpaSelfAttention.forward`.\n",
      "  return forward_call(*args, **kwargs)\n"
     ]
    }
   ],
   "source": [
    "def preprocess_text(text: str) -> str:\n",
    "    \"\"\"Preprocess text by lowercasing and removing extra whitespace.\"\"\"\n",
    "    text = text.lower().strip()\n",
    "    text = re.sub(r'\\s+', ' ', text)\n",
    "    return text\n",
    "\n",
    "if not collection.count():\n",
    "    with open(\"data/examples.json\") as f:\n",
    "        data = json.load(f)\n",
    "        for item in data:\n",
    "            collection.add(\n",
    "                documents=[preprocess_text(item[\"pattern\"])],\n",
    "                metadatas=[{\"checklist\": item[\"checklist\"], \"source\": \"json\"}],\n",
    "                ids=[preprocess_text(item[\"pattern\"])]\n",
    "            )\n",
    "    print(\"✅ Loaded initial data from data.json\")\n",
    "else:\n",
    "    print(\"ℹ️ ChromaDB already initialized with data\")"
   ]
  },
  {
   "cell_type": "markdown",
   "id": "76052645",
   "metadata": {},
   "source": [
    "## RCA agent logic"
   ]
  },
  {
   "cell_type": "code",
   "execution_count": 9,
   "id": "f6f3f858",
   "metadata": {},
   "outputs": [],
   "source": [
    "def retrieve_or_generate_checklist(pattern: str, similarity_threshold=0.3, max_results=10):\n",
    "    \"\"\"\n",
    "    Retrieves relevant checklists from the vector database and generates a new checklist\n",
    "    tailored to the given pattern. If no relevant examples are found, generates from scratch.\n",
    "    \"\"\"\n",
    "    # Preprocess the query pattern\n",
    "    pattern = preprocess_text(pattern)\n",
    "    print(\"Query pattern:\", pattern)\n",
    "\n",
    "    # Check for exact match in IDs\n",
    "    existing_data = collection.get(ids=[pattern], include=[\"documents\", \"metadatas\"])\n",
    "    if existing_data[\"ids\"]:\n",
    "        print(f\"📎 Exact match found for pattern: {pattern}\")\n",
    "        return existing_data[\"documents\"][0]\n",
    "\n",
    "    # Query similar patterns\n",
    "    results = collection.query(\n",
    "        query_texts=[pattern],\n",
    "        n_results=max_results,\n",
    "        include=[\"documents\", \"distances\"]\n",
    "    )\n",
    "    documents = results[\"documents\"][0]\n",
    "    distances = results[\"distances\"][0]\n",
    "    print(\"Query results:\", results[\"documents\"], results[\"distances\"])\n",
    "\n",
    "    # Filter relevant examples\n",
    "    relevant_examples = [\n",
    "        doc for doc, dist in zip(documents, distances)\n",
    "        if doc and dist < (1 - similarity_threshold)\n",
    "    ]\n",
    "    print(\"Relevant examples:\", relevant_examples)\n",
    "\n",
    "    if relevant_examples:\n",
    "        print(f\"📎 Found {len(relevant_examples)} relevant examples. Merging checklists for new pattern.\")\n",
    "        checklists_text = \"\\n\\n\".join(\n",
    "            f\"Checklist {i+1}:\\n{ckl}\" for i, ckl in enumerate(relevant_examples)\n",
    "        )\n",
    "        prompt = f\"\"\"\n",
    "You are an FMCG root cause analysis expert.\n",
    "\n",
    "A new pattern was observed: \"{pattern}\".\n",
    "\n",
    "Here are several similar past issues and their checklists:\n",
    "{checklists_text}\n",
    "\n",
    "Based on these, generate a new checklist tailored to the new pattern. Output just 5 crisp subtasks, one per line.\n",
    "\"\"\"\n",
    "        checklist = gemini_model.generate_content(prompt).text.strip()\n",
    "    else:\n",
    "        print(\"🚀 No relevant examples found. Generating from scratch.\")\n",
    "        prompt = f\"\"\"\n",
    "You are an expert in root cause analysis for FMCG products.\n",
    "Given the issue: \"{pattern}\", list 5 crisp subtasks to investigate the root causes. Only one point per line.\n",
    "\"\"\"\n",
    "        checklist = gemini_model.generate_content(prompt).text.strip()\n",
    "\n",
    "    # Store new pattern + checklist\n",
    "    collection.add(\n",
    "        documents=[preprocess_text(pattern)],  # Store pattern as document\n",
    "        metadatas=[{\"checklist\": checklist, \"source\": \"generated\"}],\n",
    "        ids=[pattern]\n",
    "    )\n",
    "\n",
    "    return checklist"
   ]
  },
  {
   "cell_type": "markdown",
   "id": "764b1d22",
   "metadata": {},
   "source": [
    "## 🎯 Example test"
   ]
  },
  {
   "cell_type": "code",
   "execution_count": 10,
   "id": "dd49f709",
   "metadata": {},
   "outputs": [
    {
     "name": "stdout",
     "output_type": "stream",
     "text": [
      "Query pattern: increased sales on monday mornings\n",
      "Query results: [['sales dip during festival season', 'year-on-year growth < 3%']] [[1.113682746887207, 1.5396499633789062]]\n",
      "Relevant examples: []\n",
      "🚀 No relevant examples found. Generating from scratch.\n",
      "\n",
      "📋 Checklist:\n",
      " 1. Analyze sales data for all Mondays over the past year, comparing them to other weekdays, to identify consistent patterns and magnitude of the increase.  Include segmentation by product, location, and customer type (if available).\n",
      "\n",
      "2. Investigate potential promotional activities or marketing campaigns running on or immediately preceding Mondays, including in-store displays, digital ads, and loyalty programs.\n",
      "\n",
      "3. Examine supply chain processes to identify potential bottlenecks or unusual efficiencies that might lead to higher availability on Mondays compared to other days.\n",
      "\n",
      "4. Explore consumer behavior patterns through surveys, focus groups, or social media analysis to understand Monday-specific purchasing motivations (e.g., stockpiling for the week, specific needs after the weekend).\n",
      "\n",
      "5. Analyze point-of-sale (POS) data to determine if the increased sales are due to higher average transaction values, more transactions per customer, or a larger number of unique customers shopping on Monday mornings.\n"
     ]
    }
   ],
   "source": [
    "pattern = \"Increased sales on monday mornings\"\n",
    "checklist = retrieve_or_generate_checklist(pattern)\n",
    "print(\"\\n📋 Checklist:\\n\", checklist)"
   ]
  },
  {
   "cell_type": "code",
   "execution_count": 13,
   "id": "e9b86453",
   "metadata": {},
   "outputs": [
    {
     "name": "stdout",
     "output_type": "stream",
     "text": [
      "Query pattern: sales dip during festival season like diwali and pongal\n",
      "Query results: [['sales dip during festival season', 'increased sales on monday mornings', 'protein bar sales spike in tier-2 cities', 'year-on-year growth < 3%']] [[0.3110525906085968, 1.2025566101074219, 1.4031076431274414, 1.5327401161193848]]\n",
      "Relevant examples: ['sales dip during festival season']\n",
      "📎 Found 1 relevant examples. Merging checklists for new pattern.\n",
      "\n",
      "📋 Checklist:\n",
      " Investigate competitor promotional activity during festivals.\n",
      "Analyze distribution channel effectiveness during peak festival periods.\n",
      "Assess product stock levels and supply chain disruptions.\n",
      "Evaluate pricing strategy and promotional offers' impact.\n",
      "Review consumer sentiment and preference shifts during festivals.\n"
     ]
    }
   ],
   "source": [
    "pattern = \"sales dip during festival season like diwali and pongal\"\n",
    "checklist = retrieve_or_generate_checklist(pattern)\n",
    "print(\"\\n📋 Checklist:\\n\", checklist)"
   ]
  },
  {
   "cell_type": "code",
   "execution_count": 12,
   "id": "a09dedeb",
   "metadata": {},
   "outputs": [
    {
     "name": "stdout",
     "output_type": "stream",
     "text": [
      "Query pattern: protein bar sales spike in tier-2 cities\n",
      "Query results: [['sales dip during festival season', 'increased sales on monday mornings', 'year-on-year growth < 3%']] [[1.268486738204956, 1.343087911605835, 1.4514671564102173]]\n",
      "Relevant examples: []\n",
      "🚀 No relevant examples found. Generating from scratch.\n",
      "\n",
      "📋 Checklist:\n",
      " 1. Analyze Tier-2 city market penetration & competitive landscape changes before and during the sales spike.\n",
      "2. Investigate marketing and promotional activities targeting Tier-2 cities during the relevant period.\n",
      "3.  Assess distribution network effectiveness and changes in Tier-2 cities, including retailer relationships and stock levels.\n",
      "4. Identify any specific product variations or pricing strategies deployed in Tier-2 cities that might explain the increase.\n",
      "5. Conduct consumer research in Tier-2 cities to understand purchase drivers, brand perception, and reasons for increased consumption.\n"
     ]
    }
   ],
   "source": [
    "pattern = \"Protein bar sales spike in tier-2 cities\"\n",
    "checklist = retrieve_or_generate_checklist(pattern)\n",
    "print(\"\\n📋 Checklist:\\n\", checklist)"
   ]
  },
  {
   "cell_type": "code",
   "execution_count": null,
   "id": "e309b07b",
   "metadata": {},
   "outputs": [],
   "source": []
  }
 ],
 "metadata": {
  "kernelspec": {
   "display_name": "rca",
   "language": "python",
   "name": "python3"
  },
  "language_info": {
   "codemirror_mode": {
    "name": "ipython",
    "version": 3
   },
   "file_extension": ".py",
   "mimetype": "text/x-python",
   "name": "python",
   "nbconvert_exporter": "python",
   "pygments_lexer": "ipython3",
   "version": "3.13.5"
  }
 },
 "nbformat": 4,
 "nbformat_minor": 5
}

{
 "cells": [
  {
   "cell_type": "markdown",
   "id": "b31be1a0",
   "metadata": {},
   "source": [
    "## Importing Libraries"
   ]
  },
  {
   "cell_type": "code",
   "execution_count": 1,
   "id": "c58dc064",
   "metadata": {},
   "outputs": [
    {
     "name": "stderr",
     "output_type": "stream",
     "text": [
      "/Users/gokul/miniconda3/envs/rca/lib/python3.13/site-packages/tqdm/auto.py:21: TqdmWarning: IProgress not found. Please update jupyter and ipywidgets. See https://ipywidgets.readthedocs.io/en/stable/user_install.html\n",
      "  from .autonotebook import tqdm as notebook_tqdm\n"
     ]
    }
   ],
   "source": [
    "import os\n",
    "import json\n",
    "from dotenv import load_dotenv\n",
    "import chromadb\n",
    "from sentence_transformers import SentenceTransformer\n",
    "from chromadb.utils.embedding_functions import SentenceTransformerEmbeddingFunction\n",
    "import google.generativeai as genai"
   ]
  },
  {
   "cell_type": "markdown",
   "id": "8b0d134a",
   "metadata": {},
   "source": [
    "## Loading env variables"
   ]
  },
  {
   "cell_type": "code",
   "execution_count": 9,
   "id": "dfae1eb8",
   "metadata": {},
   "outputs": [],
   "source": [
    "# Load environment variables\n",
    "load_dotenv()\n",
    "GEMINI_API_KEY = os.getenv(\"GEMINI_API_KEY\")"
   ]
  },
  {
   "cell_type": "markdown",
   "id": "fa0b7c89",
   "metadata": {},
   "source": [
    "## Set up embedding using Sentence transformer"
   ]
  },
  {
   "cell_type": "code",
   "execution_count": 7,
   "id": "f4cd7e27",
   "metadata": {},
   "outputs": [],
   "source": [
    "embedding_fn = SentenceTransformerEmbeddingFunction(model_name=\"all-MiniLM-L6-v2\")\n"
   ]
  },
  {
   "cell_type": "markdown",
   "id": "4afdf2d6",
   "metadata": {},
   "source": [
    "## Set up chroma db"
   ]
  },
  {
   "cell_type": "code",
   "execution_count": 8,
   "id": "b5a0c5a6",
   "metadata": {},
   "outputs": [],
   "source": [
    "client = chromadb.Client()\n",
    "collection = client.get_or_create_collection(name=\"rca_patterns\", embedding_function=embedding_fn)"
   ]
  },
  {
   "cell_type": "markdown",
   "id": "3b80d240",
   "metadata": {},
   "source": [
    "## Set up Gemini 1.5 Flash"
   ]
  },
  {
   "cell_type": "code",
   "execution_count": 10,
   "id": "d0f8d195",
   "metadata": {},
   "outputs": [],
   "source": [
    "genai.configure(api_key=GEMINI_API_KEY)\n",
    "gemini_model = genai.GenerativeModel(\"gemini-1.5-flash\")"
   ]
  },
  {
   "cell_type": "markdown",
   "id": "b18c690b",
   "metadata": {},
   "source": [
    "## Load data.json into ChromaDB (if DB is empty)"
   ]
  },
  {
   "cell_type": "code",
   "execution_count": 11,
   "id": "5182677a",
   "metadata": {},
   "outputs": [
    {
     "name": "stdout",
     "output_type": "stream",
     "text": [
      "✅ Loaded initial data from data.json\n"
     ]
    },
    {
     "name": "stderr",
     "output_type": "stream",
     "text": [
      "/Users/gokul/miniconda3/envs/rca/lib/python3.13/site-packages/torch/nn/modules/module.py:1762: FutureWarning: `encoder_attention_mask` is deprecated and will be removed in version 4.55.0 for `BertSdpaSelfAttention.forward`.\n",
      "  return forward_call(*args, **kwargs)\n"
     ]
    }
   ],
   "source": [
    "if not collection.count():\n",
    "    with open(\"data.json\") as f:\n",
    "        data = json.load(f)\n",
    "        for item in data:\n",
    "            collection.add(\n",
    "                documents=[item[\"checklist\"]],\n",
    "                metadatas=[{\"source\": \"json\"}],\n",
    "                ids=[item[\"pattern\"]]\n",
    "            )\n",
    "    print(\"✅ Loaded initial data from data.json\")\n",
    "else:\n",
    "    print(\"ℹ️ ChromaDB already initialized with data\")"
   ]
  },
  {
   "cell_type": "markdown",
   "id": "23bd60c2",
   "metadata": {},
   "source": [
    "## Function to generate checklist using Gemini"
   ]
  },
  {
   "cell_type": "code",
   "execution_count": 17,
   "id": "cc72ce44",
   "metadata": {},
   "outputs": [],
   "source": [
    "def generate_checklist(pattern: str) -> str:\n",
    "    prompt = f\"\"\"\n",
    "You are an expert in root cause analysis for FMCG products.\n",
    "Given the issue: \"{pattern}\", list 5 crisp subtasks to investigate the root causes. Only one point per line.\n",
    "\"\"\"\n",
    "    response = gemini_model.generate_content(prompt)\n",
    "    return response.text.strip()"
   ]
  },
  {
   "cell_type": "markdown",
   "id": "76052645",
   "metadata": {},
   "source": [
    "## RCA agent logic"
   ]
  },
  {
   "cell_type": "code",
   "execution_count": 18,
   "id": "f6f3f858",
   "metadata": {},
   "outputs": [],
   "source": [
    "def retrieve_or_generate_checklist(pattern: str):\n",
    "    results = collection.query(query_texts=[pattern], n_results=1)\n",
    "    retrieved = results[\"documents\"][0]\n",
    "\n",
    "    if retrieved:\n",
    "        similarity_checklist = retrieved[0]\n",
    "        print(\"📎 Retrieved similar pattern. Using it to augment the LLM prompt.\")\n",
    "        prompt = f\"\"\"\n",
    "You are an FMCG root cause analysis expert.\n",
    "\n",
    "A new pattern was observed: \"{pattern}\".\n",
    "\n",
    "Here is a similar past issue and its checklist:\n",
    "{similarity_checklist}\n",
    "\n",
    "Now based on this and your expertise, generate a fresh checklist of just 5 crisp subtasks tailored to the new pattern. One point per line.\n",
    "\"\"\"\n",
    "        checklist = gemini_model.generate_content(prompt).text.strip()\n",
    "    else:\n",
    "        print(\"🚀 No similar pattern. Generating from scratch.\")\n",
    "        checklist = generate_checklist(pattern)\n",
    "\n",
    "    # Store new pattern + checklist\n",
    "    collection.add(\n",
    "        documents=[checklist],\n",
    "        metadatas=[{\"source\": \"generated\"}],\n",
    "        ids=[pattern]\n",
    "    )\n",
    "\n",
    "    return checklist\n"
   ]
  },
  {
   "cell_type": "markdown",
   "id": "764b1d22",
   "metadata": {},
   "source": [
    "## 🎯 Example test"
   ]
  },
  {
   "cell_type": "code",
   "execution_count": null,
   "id": "dd49f709",
   "metadata": {},
   "outputs": [
    {
     "name": "stdout",
     "output_type": "stream",
     "text": [
      "📎 Retrieved similar pattern. Using it to augment the LLM prompt.\n",
      "\n",
      "📋 Checklist:\n",
      " 1. Analyze POS data for Saturday and Sunday sales and stock levels to determine if weekend stockouts fueled Monday morning demand.\n",
      "\n",
      "2. Investigate social media mentions and sentiment relating to the product over the preceding weekend to identify potential viral trends or influencer impact.\n",
      "\n",
      "3. Compare Monday morning sales to other days of the week across different regions, controlling for potential regional variations in consumer habits.\n",
      "\n",
      "4.  Assess retailer-reported data on Monday morning stock replenishment and promotional display activities.\n",
      "\n",
      "5. Examine delivery schedules and logistics data for any anomalies that might explain increased product availability on Monday mornings.\n"
     ]
    }
   ],
   "source": [
    "pattern = \"Increased sales on monday mornings\"\n",
    "checklist = retrieve_or_generate_checklist(pattern)\n",
    "print(\"\\n📋 Checklist:\\n\", checklist)"
   ]
  },
  {
   "cell_type": "code",
   "execution_count": 20,
   "id": "e9b86453",
   "metadata": {},
   "outputs": [
    {
     "name": "stdout",
     "output_type": "stream",
     "text": [
      "📎 Retrieved similar pattern. Using it to augment the LLM prompt.\n",
      "\n",
      "📋 Checklist:\n",
      " 1. Analyze ice cream sales data by region, temperature, and promotional activity to identify areas and periods with unexpectedly low profit margins.\n",
      "\n",
      "2. Investigate supply chain inefficiencies specific to ice cream distribution during peak summer temperatures (e.g., spoilage, increased transportation costs).\n",
      "\n",
      "3. Assess competitor pricing and promotional strategies for ice cream during summer to determine market competitiveness.\n",
      "\n",
      "4. Evaluate consumer purchasing behaviour during summer heatwaves, including potential shifts to alternative cooling options or reduced overall consumption.\n",
      "\n",
      "5. Review summer-specific marketing and promotional campaigns for effectiveness in driving sales and maximizing profitability, considering messaging and channel reach.\n"
     ]
    }
   ],
   "source": [
    "pattern = \"Less profit on icecreams during summer\"\n",
    "checklist = retrieve_or_generate_checklist(pattern)\n",
    "print(\"\\n📋 Checklist:\\n\", checklist)"
   ]
  },
  {
   "cell_type": "code",
   "execution_count": 22,
   "id": "a09dedeb",
   "metadata": {},
   "outputs": [
    {
     "name": "stdout",
     "output_type": "stream",
     "text": [
      "📎 Retrieved similar pattern. Using it to augment the LLM prompt.\n",
      "\n",
      "📋 Checklist:\n",
      " 1. Analyze POS data from Tier-2 cities to identify specific protein bar varieties driving the sales spike and correlate with potential local events or trends.\n",
      "\n",
      "2. Investigate social media and local news in Tier-2 cities for mentions of protein bars, fitness challenges, or relevant health campaigns.\n",
      "\n",
      "3. Compare sales data of protein bars in Tier-2 cities against Tier-1 and Tier-3 cities to determine the uniqueness of the trend and rule out national campaigns.\n",
      "\n",
      "4. Assess competitor activity in Tier-2 cities, including pricing, promotions, and stock availability, to determine if competitive factors contributed to the spike.\n",
      "\n",
      "5. Examine distribution and logistical data for Tier-2 cities to identify any anomalies in delivery schedules or stock replenishment that may have influenced availability.\n"
     ]
    }
   ],
   "source": [
    "pattern = \"Protein bar sales spike in tier-2 cities\"\n",
    "checklist = retrieve_or_generate_checklist(pattern)\n",
    "print(\"\\n📋 Checklist:\\n\", checklist)"
   ]
  },
  {
   "cell_type": "code",
   "execution_count": null,
   "id": "e309b07b",
   "metadata": {},
   "outputs": [],
   "source": []
  }
 ],
 "metadata": {
  "kernelspec": {
   "display_name": "rca",
   "language": "python",
   "name": "python3"
  },
  "language_info": {
   "codemirror_mode": {
    "name": "ipython",
    "version": 3
   },
   "file_extension": ".py",
   "mimetype": "text/x-python",
   "name": "python",
   "nbconvert_exporter": "python",
   "pygments_lexer": "ipython3",
   "version": "3.13.5"
  }
 },
 "nbformat": 4,
 "nbformat_minor": 5
}

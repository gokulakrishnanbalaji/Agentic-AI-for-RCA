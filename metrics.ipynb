{
 "cells": [
  {
   "cell_type": "code",
   "execution_count": 2,
   "id": "fbb830f0",
   "metadata": {},
   "outputs": [],
   "source": [
    "import numpy as np\n",
    "import pandas as pd"
   ]
  },
  {
   "cell_type": "code",
   "execution_count": 12,
   "id": "994c3929",
   "metadata": {},
   "outputs": [],
   "source": [
    "df = pd.read_csv('data/SuperStoreOrders.csv')"
   ]
  },
  {
   "cell_type": "code",
   "execution_count": 5,
   "id": "ca756117",
   "metadata": {},
   "outputs": [
    {
     "data": {
      "text/plain": [
       "Index(['order_id', 'order_date', 'ship_date', 'ship_mode', 'customer_name',\n",
       "       'segment', 'state', 'country', 'market', 'region', 'product_id',\n",
       "       'category', 'sub_category', 'product_name', 'sales', 'quantity',\n",
       "       'discount', 'profit', 'shipping_cost', 'order_priority', 'year'],\n",
       "      dtype='object')"
      ]
     },
     "execution_count": 5,
     "metadata": {},
     "output_type": "execute_result"
    }
   ],
   "source": [
    "df.columns "
   ]
  },
  {
   "cell_type": "code",
   "execution_count": 16,
   "id": "96a0b8ea",
   "metadata": {},
   "outputs": [],
   "source": [
    "df['order_date'] = pd.to_datetime(df['order_date'], format='mixed', dayfirst=True, errors='coerce')\n",
    "df['ship_date']  = pd.to_datetime(df['ship_date'], format='mixed', dayfirst=True, errors='coerce')\n"
   ]
  },
  {
   "cell_type": "code",
   "execution_count": 21,
   "id": "2400be3b",
   "metadata": {},
   "outputs": [],
   "source": [
    "df['sales'] = pd.to_numeric(df['sales'], errors='coerce')"
   ]
  },
  {
   "cell_type": "code",
   "execution_count": 22,
   "id": "cb9f33b6",
   "metadata": {},
   "outputs": [],
   "source": [
    "# ---- Week-wise Sales ----\n",
    "weekly_sales = (\n",
    "    df.groupby(pd.Grouper(key='order_date', freq='W'))['sales']\n",
    "      .sum()\n",
    "      .reset_index()\n",
    ")\n",
    "weekly_sales['pct_change_week'] = weekly_sales['sales'].pct_change() * 100  # percentage change\n",
    "\n"
   ]
  },
  {
   "cell_type": "code",
   "execution_count": 24,
   "id": "5caabf24",
   "metadata": {},
   "outputs": [],
   "source": [
    "# ---- Month-wise Sales ----\n",
    "monthly_sales = (\n",
    "    df.groupby(pd.Grouper(key='order_date', freq='ME'))['sales']\n",
    "      .sum()\n",
    "      .reset_index()\n",
    ")\n",
    "monthly_sales['pct_change_month'] = monthly_sales['sales'].pct_change() * 100"
   ]
  },
  {
   "cell_type": "code",
   "execution_count": 27,
   "id": "b2688b4d",
   "metadata": {},
   "outputs": [],
   "source": [
    "df['year'] = df['order_date'].dt.year\n",
    "df['month'] = df['order_date'].dt.month"
   ]
  },
  {
   "cell_type": "code",
   "execution_count": 29,
   "id": "6c384e6c",
   "metadata": {},
   "outputs": [],
   "source": [
    "# Week number inside the month\n",
    "df['nth_week'] = ((df['order_date'].dt.day - 1) // 7) + 1"
   ]
  },
  {
   "cell_type": "code",
   "execution_count": 30,
   "id": "6cb759fb",
   "metadata": {},
   "outputs": [],
   "source": [
    "\n",
    "# --- Aggregate sales ---\n",
    "weekly_in_month = (\n",
    "    df.groupby(['year', 'month', 'nth_week'])['sales']\n",
    "      .sum()\n",
    "      .reset_index()\n",
    "      .sort_values(['year', 'month', 'nth_week'])\n",
    ")\n"
   ]
  },
  {
   "cell_type": "code",
   "execution_count": 31,
   "id": "5d5a265e",
   "metadata": {},
   "outputs": [],
   "source": [
    "# --- Calculate nth-week MoM percentage change ---\n",
    "weekly_in_month['pct_change_mom'] = (\n",
    "    weekly_in_month.groupby('nth_week')['sales']\n",
    "    .pct_change() * 100\n",
    ")\n"
   ]
  },
  {
   "cell_type": "code",
   "execution_count": 32,
   "id": "709e94dd",
   "metadata": {},
   "outputs": [],
   "source": [
    "# Save to CSV\n",
    "weekly_in_month.to_csv(\"metrics/nth_week_monthly_change.csv\", index=False)"
   ]
  },
  {
   "cell_type": "code",
   "execution_count": 34,
   "id": "e08f5897",
   "metadata": {},
   "outputs": [],
   "source": [
    "# ---- Combine metrics ----\n",
    "metrics = pd.DataFrame({\n",
    "    'week_start': weekly_sales['order_date'],\n",
    "    'weekly_sales': weekly_sales['sales'],\n",
    "    'pct_change_week': weekly_sales['pct_change_week'],\n",
    "})\n",
    "\n",
    "metrics_month = pd.DataFrame({\n",
    "    'month_start': monthly_sales['order_date'],\n",
    "    'monthly_sales': monthly_sales['sales'],\n",
    "    'pct_change_month': monthly_sales['pct_change_month'],\n",
    "})\n",
    "\n",
    "# Optional: Save both metrics to separate CSVs\n",
    "metrics.to_csv(\"metrics/weekly_metrics.csv\", index=False)\n",
    "metrics_month.to_csv(\"metrics/monthly_metrics.csv\", index=False)"
   ]
  },
  {
   "cell_type": "code",
   "execution_count": 35,
   "id": "8f24f6da",
   "metadata": {},
   "outputs": [],
   "source": [
    "# to find product share across subcategories per week"
   ]
  },
  {
   "cell_type": "code",
   "execution_count": 36,
   "id": "2c0c9889",
   "metadata": {},
   "outputs": [],
   "source": [
    "# Step 1: Weekly sales by product (within sub_category)\n",
    "weekly_product_sales = (\n",
    "    df.groupby([pd.Grouper(key='order_date', freq='W'), 'category', 'sub_category', 'product_name'])['sales']\n",
    "      .sum()\n",
    "      .reset_index()\n",
    ")"
   ]
  },
  {
   "cell_type": "code",
   "execution_count": 37,
   "id": "7bfe07d7",
   "metadata": {},
   "outputs": [],
   "source": [
    "\n",
    "# Step 2: Weekly total sales per sub_category\n",
    "weekly_subcat_sales = (\n",
    "    df.groupby([pd.Grouper(key='order_date', freq='W'), 'category', 'sub_category'])['sales']\n",
    "      .sum()\n",
    "      .reset_index()\n",
    "      .rename(columns={'sales': 'subcat_sales'})\n",
    ")"
   ]
  },
  {
   "cell_type": "code",
   "execution_count": 38,
   "id": "ac3d9f0b",
   "metadata": {},
   "outputs": [],
   "source": [
    "# Step 3: Merge & compute share %\n",
    "weekly_share = weekly_product_sales.merge(\n",
    "    weekly_subcat_sales,\n",
    "    on=['order_date', 'category', 'sub_category'],\n",
    "    how='left'\n",
    ")"
   ]
  },
  {
   "cell_type": "code",
   "execution_count": 39,
   "id": "fbf48778",
   "metadata": {},
   "outputs": [],
   "source": [
    "weekly_share['pct_share'] = (weekly_share['sales'] / weekly_share['subcat_sales']) * 100\n",
    "\n",
    "# Save result\n",
    "weekly_share.to_csv(\"metrics/weekly_product_share.csv\", index=False)"
   ]
  },
  {
   "cell_type": "code",
   "execution_count": null,
   "id": "99a76160",
   "metadata": {},
   "outputs": [],
   "source": []
  }
 ],
 "metadata": {
  "kernelspec": {
   "display_name": "rca",
   "language": "python",
   "name": "python3"
  },
  "language_info": {
   "codemirror_mode": {
    "name": "ipython",
    "version": 3
   },
   "file_extension": ".py",
   "mimetype": "text/x-python",
   "name": "python",
   "nbconvert_exporter": "python",
   "pygments_lexer": "ipython3",
   "version": "3.13.5"
  }
 },
 "nbformat": 4,
 "nbformat_minor": 5
}

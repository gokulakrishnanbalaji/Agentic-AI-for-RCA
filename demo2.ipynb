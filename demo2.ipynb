{
 "cells": [
  {
   "cell_type": "markdown",
   "id": "178b734b",
   "metadata": {},
   "source": [
    "Import libraries"
   ]
  },
  {
   "cell_type": "code",
   "execution_count": 1,
   "id": "d9a8a035",
   "metadata": {},
   "outputs": [
    {
     "name": "stderr",
     "output_type": "stream",
     "text": [
      "/Users/gokul/miniconda3/envs/rca/lib/python3.13/site-packages/tqdm/auto.py:21: TqdmWarning: IProgress not found. Please update jupyter and ipywidgets. See https://ipywidgets.readthedocs.io/en/stable/user_install.html\n",
      "  from .autonotebook import tqdm as notebook_tqdm\n"
     ]
    }
   ],
   "source": [
    "import os\n",
    "import re\n",
    "import json\n",
    "import sqlite3\n",
    "import chromadb\n",
    "from chromadb.utils import embedding_functions\n",
    "from dotenv import load_dotenv\n",
    "import google.generativeai as genai\n"
   ]
  },
  {
   "cell_type": "markdown",
   "id": "ac44a286",
   "metadata": {},
   "source": [
    "Load API key from .env\n"
   ]
  },
  {
   "cell_type": "code",
   "execution_count": 2,
   "id": "47449ce3",
   "metadata": {},
   "outputs": [],
   "source": [
    "load_dotenv()\n",
    "genai.configure(api_key=os.getenv(\"GEMINI_API_KEY\"))"
   ]
  },
  {
   "cell_type": "markdown",
   "id": "1ae56635",
   "metadata": {},
   "source": [
    "Defining Paths"
   ]
  },
  {
   "cell_type": "code",
   "execution_count": 3,
   "id": "15f1e771",
   "metadata": {},
   "outputs": [],
   "source": [
    "EXAMPLES_PATH = \"data/examples.json\"\n",
    "DB_PATH = \"data/SuperStoreOrders.db\" "
   ]
  },
  {
   "cell_type": "markdown",
   "id": "9476850c",
   "metadata": {},
   "source": [
    "Load examples.json file"
   ]
  },
  {
   "cell_type": "code",
   "execution_count": 4,
   "id": "8160d4d3",
   "metadata": {},
   "outputs": [],
   "source": [
    "with open(EXAMPLES_PATH, \"r\") as f:\n",
    "    examples = json.load(f)"
   ]
  },
  {
   "cell_type": "markdown",
   "id": "b4b0f588",
   "metadata": {},
   "source": [
    "Chroma DB for RAG"
   ]
  },
  {
   "cell_type": "code",
   "execution_count": 5,
   "id": "b9163a72",
   "metadata": {},
   "outputs": [
    {
     "name": "stderr",
     "output_type": "stream",
     "text": [
      "/Users/gokul/miniconda3/envs/rca/lib/python3.13/site-packages/torch/nn/modules/module.py:1762: FutureWarning: `encoder_attention_mask` is deprecated and will be removed in version 4.55.0 for `BertSdpaSelfAttention.forward`.\n",
      "  return forward_call(*args, **kwargs)\n"
     ]
    }
   ],
   "source": [
    "embedding_fn = embedding_functions.SentenceTransformerEmbeddingFunction(model_name=\"all-MiniLM-L6-v2\")\n",
    "client = chromadb.Client()\n",
    "collection = client.create_collection(name=\"patterns\", embedding_function=embedding_fn)\n",
    "\n",
    "# Add examples to vector DB (store checklist as JSON string)\n",
    "\n",
    "for idx, ex in enumerate(examples):\n",
    "    collection.add(\n",
    "        ids=[str(idx)],\n",
    "        documents=[ex[\"pattern\"]],\n",
    "        metadatas=[{\"checklist\": json.dumps(ex[\"checklist\"])}]  # store as string\n",
    "    )\n"
   ]
  },
  {
   "cell_type": "markdown",
   "id": "8b2424fe",
   "metadata": {},
   "source": [
    "Function to retrieve similar patterns"
   ]
  },
  {
   "cell_type": "code",
   "execution_count": 6,
   "id": "afea357a",
   "metadata": {},
   "outputs": [],
   "source": [
    "def retrieve_similar_patterns(user_pattern, top_k=2):\n",
    "    results = collection.query(query_texts=[user_pattern], n_results=top_k)\n",
    "    # Parse checklist string back to list\n",
    "    parsed_results = []\n",
    "    for meta in results[\"metadatas\"]:\n",
    "        checklist = json.loads(meta[0][\"checklist\"]) if meta[0].get(\"checklist\") else []\n",
    "        parsed_results.append({\"checklist\": checklist})\n",
    "    return parsed_results"
   ]
  },
  {
   "cell_type": "markdown",
   "id": "005caf4b",
   "metadata": {},
   "source": [
    "Function to generate checklist, given new pattern"
   ]
  },
  {
   "cell_type": "code",
   "execution_count": 7,
   "id": "17930736",
   "metadata": {},
   "outputs": [],
   "source": [
    "def generate_checklist(user_pattern, retrieved_patterns):\n",
    "    prompt = f\"\"\"\n",
    "You are a root cause analysis assistant.\n",
    "Given the following historical patterns and their checklists:\n",
    "{retrieved_patterns}\n",
    "\n",
    "Now, create a final checklist (only 5 points in checklist) for this new pattern:\n",
    "'{user_pattern}'\n",
    "Checklist should be step-by-step, concise, and relevant to metrics columns:\n",
    "There are 4 metrics tables:\n",
    "1. metrics/monthly_metrics.csv : [month_start,monthly_sales,pct_change_month]\n",
    "2. metrics/weekly_metrics.csv : [week_start,weekly_sales,pct_change_week]\n",
    "3. metrics/nth_week_monthly_change.csv: [year,month,nth_week,sales,pct_change_mom]\n",
    "4. metrics/weekly_product_share.csv: [order_date,category,sub_category,product_name,sales,subcat_sales,pct_share]\n",
    "    \"\"\"\n",
    "    resp = genai.GenerativeModel(\"gemini-1.5-flash\").generate_content(prompt)\n",
    "    return [item.strip(\"- \").strip() for item in resp.text.split(\"\\n\") if item.strip()]\n"
   ]
  },
  {
   "cell_type": "markdown",
   "id": "096fcfcc",
   "metadata": {},
   "source": [
    "Function to generate SQL query"
   ]
  },
  {
   "cell_type": "code",
   "execution_count": 12,
   "id": "f5bd674e",
   "metadata": {},
   "outputs": [],
   "source": [
    "def generate_pandas_code(checklist_item):\n",
    "    prompt = f\"\"\"\n",
    "You are an expert Pandas code generator.\n",
    "Write ONE valid pandas code (no multiple statements, no comments, no placeholders).\n",
    "1. metrics/monthly_metrics.csv : [month_start,monthly_sales,pct_change_month]\n",
    "2. metrics/weekly_metrics.csv : [week_start,weekly_sales,pct_change_week]\n",
    "3. metrics/nth_week_monthly_change.csv: [year,month,nth_week,sales,pct_change_mom]\n",
    "4. metrics/weekly_product_share.csv: [order_date,category,sub_category,product_name,sales,subcat_sales,pct_share]\n",
    "    \n",
    "\n",
    "The request is:\n",
    "\"{checklist_item}\"\n",
    "\n",
    "Return ONLY the pandas code, no explanation, no comments, no markdown.\n",
    "\"\"\"\n",
    "    resp = genai.GenerativeModel(\"gemini-1.5-flash\").generate_content(prompt)\n",
    "    return resp.text.strip()\n"
   ]
  },
  {
   "cell_type": "markdown",
   "id": "9a778007",
   "metadata": {},
   "source": [
    "Function to run SQL query"
   ]
  },
  {
   "cell_type": "code",
   "execution_count": 9,
   "id": "68f71779",
   "metadata": {},
   "outputs": [],
   "source": [
    "\n",
    "def clean_sql(sql):\n",
    "    # Remove SQL comments\n",
    "    sql = re.sub(r\"--.*\", \"\", sql)\n",
    "    # Remove extra spaces\n",
    "    sql = sql.strip()\n",
    "    # Remove code block markers from Gemini output\n",
    "    sql = sql.replace(\"```sql\", \"\").replace(\"```\", \"\").strip()\n",
    "    # Ensure only one statement by splitting on semicolon\n",
    "    if \";\" in sql:\n",
    "        sql = sql.split(\";\")[0]\n",
    "    return sql\n",
    "\n",
    "def run_sql(query):\n",
    "    conn = sqlite3.connect(DB_PATH)\n",
    "    cursor = conn.cursor()\n",
    "    try:\n",
    "        cleaned_query = clean_sql(query)\n",
    "        cursor.execute(cleaned_query)\n",
    "        results = cursor.fetchall()\n",
    "        col_names = [desc[0] for desc in cursor.description]\n",
    "        conn.close()\n",
    "        return col_names, results\n",
    "    except Exception as e:\n",
    "        conn.close()\n",
    "        return None, str(e)\n"
   ]
  },
  {
   "cell_type": "markdown",
   "id": "dae3ba47",
   "metadata": {},
   "source": [
    "Testing with new real life pattern"
   ]
  },
  {
   "cell_type": "code",
   "execution_count": 13,
   "id": "49069571",
   "metadata": {},
   "outputs": [
    {
     "name": "stdout",
     "output_type": "stream",
     "text": [
      "\n",
      "Generated Checklist:\n",
      "1. **Final Checklist (5 points) for Decreasing IKEA Market Share in Furniture:**\n",
      "2. 1. **Quantify the decline:** Analyze `metrics/monthly_metrics.csv` and `metrics/nth_week_monthly_change.csv` to determine the magnitude and duration of IKEA's market share decrease in the furniture category.  Calculate the overall percentage drop and identify periods of most significant decline.\n",
      "3. 2. **Identify affected product areas:** Using `metrics/weekly_product_share.csv`, pinpoint specific sub-categories and products within the furniture category where IKEA's `pct_share` has decreased most dramatically.\n",
      "4. 3. **Analyze competitor performance:** Investigate whether the overall furniture category sales are declining (`metrics/monthly_metrics.csv` and `metrics/weekly_metrics.csv`) or if IKEA's share loss is due to competitor gains.  If possible, compare IKEA's performance against key competitors.\n",
      "5. 4. **Assess pricing and promotions:** Compare IKEA's discount and promotion strategies (using information external to provided datasets) against those of its competitors during the periods of declining market share.  Look for evidence of more aggressive competitor pricing or promotions.\n",
      "6. 5. **Regional performance analysis:**  Use `metrics/weekly_product_share.csv`  and regional sales data (if available, not explicitly present in provided files, may require merging with additional geographical data) to identify regions where IKEA's market share decline is most pronounced. This helps isolate geographical factors (e.g., localized competition, economic conditions).\n",
      "\n",
      "Checklist Item: **Final Checklist (5 points) for Decreasing IKEA Market Share in Furniture:**\n",
      "Pandas code:\n",
      "```python\n",
      "import pandas as pd\n",
      "pd.concat([pd.read_csv('metrics/monthly_metrics.csv').assign(metric_type='monthly'),pd.read_csv('metrics/weekly_metrics.csv').assign(metric_type='weekly'),pd.read_csv('metrics/nth_week_monthly_change.csv').assign(metric_type='monthly_nth_week'),pd.read_csv('metrics/weekly_product_share.csv').assign(metric_type='weekly_product')],ignore_index=True)\n",
      "```\n",
      "\n",
      "Checklist Item: 1. **Quantify the decline:** Analyze `metrics/monthly_metrics.csv` and `metrics/nth_week_monthly_change.csv` to determine the magnitude and duration of IKEA's market share decrease in the furniture category.  Calculate the overall percentage drop and identify periods of most significant decline.\n",
      "Pandas code:\n",
      "```python\n",
      "import pandas as pd\n",
      "monthly=pd.read_csv('metrics/monthly_metrics.csv',parse_dates=['month_start'])\n",
      "nth_week=pd.read_csv('metrics/nth_week_monthly_change.csv',parse_dates=['month'])\n",
      "merged=pd.merge(monthly,nth_week,left_on='month_start',right_on='month',how='inner')\n",
      "overall_drop=((merged['monthly_sales'].iloc[0]-merged['monthly_sales'].iloc[-1])/merged['monthly_sales'].iloc[0])*100\n",
      "significant_decline=merged[merged['pct_change_month']<-10]\n",
      "```\n",
      "\n",
      "Checklist Item: 2. **Identify affected product areas:** Using `metrics/weekly_product_share.csv`, pinpoint specific sub-categories and products within the furniture category where IKEA's `pct_share` has decreased most dramatically.\n",
      "Pandas code:\n",
      "import pandas as pd\n",
      "pd.read_csv('metrics/weekly_product_share.csv').query('category == \"Furniture\"').sort_values('pct_share').head()\n",
      "\n",
      "Checklist Item: 3. **Analyze competitor performance:** Investigate whether the overall furniture category sales are declining (`metrics/monthly_metrics.csv` and `metrics/weekly_metrics.csv`) or if IKEA's share loss is due to competitor gains.  If possible, compare IKEA's performance against key competitors.\n",
      "Pandas code:\n",
      "pd.concat([pd.read_csv('metrics/monthly_metrics.csv'),pd.read_csv('metrics/weekly_metrics.csv').rename(columns={'weekly_sales':'monthly_sales','week_start':'month_start'})],ignore_index=True).groupby('month_start')['monthly_sales'].sum().pct_change()\n",
      "\n",
      "Checklist Item: 4. **Assess pricing and promotions:** Compare IKEA's discount and promotion strategies (using information external to provided datasets) against those of its competitors during the periods of declining market share.  Look for evidence of more aggressive competitor pricing or promotions.\n",
      "Pandas code:\n",
      "```python\n",
      "import pandas as pd\n",
      "```\n",
      "\n",
      "Checklist Item: 5. **Regional performance analysis:**  Use `metrics/weekly_product_share.csv`  and regional sales data (if available, not explicitly present in provided files, may require merging with additional geographical data) to identify regions where IKEA's market share decline is most pronounced. This helps isolate geographical factors (e.g., localized competition, economic conditions).\n",
      "Pandas code:\n",
      "pd.read_csv('metrics/weekly_product_share.csv')\n"
     ]
    }
   ],
   "source": [
    "user_input_pattern = \"market share of Ikea is decreasing in the furniture category\"\n",
    "\n",
    "# Step 1: Retrieve similar patterns\n",
    "similar = retrieve_similar_patterns(user_input_pattern)\n",
    "\n",
    "# Step 2: Generate checklist\n",
    "checklist = generate_checklist(user_input_pattern, similar)\n",
    "print(\"\\nGenerated Checklist:\")\n",
    "for i, step in enumerate(checklist, 1):\n",
    "    print(f\"{i}. {step}\")\n",
    "\n",
    "# Step 3: Generate and run SQL for each checklist item\n",
    "for step in checklist:\n",
    "    sql = generate_pandas_code(step)\n",
    "    print(f\"\\nChecklist Item: {step}\")\n",
    "    print(f\"Pandas code:\\n{sql}\")\n",
    "    "
   ]
  },
  {
   "cell_type": "code",
   "execution_count": 11,
   "id": "fc6946e4",
   "metadata": {},
   "outputs": [
    {
     "name": "stdout",
     "output_type": "stream",
     "text": [
      "\n",
      "Generated Checklist:\n",
      "1. **Final Checklist: Investigating Higher Profit in Canada than EU**\n",
      "2. 1. **Compare Overall Profitability:** Calculate total profit for Canada and EU using `monthly_metrics.csv` (sum `monthly_sales` for each region, adjusting for known costs).  This establishes the overall difference.\n",
      "3. 2. **Analyze Monthly Sales Trends:** Using `monthly_metrics.csv`, compare month-over-month `pct_change_month` in sales for Canada and EU to identify any significant divergence in growth patterns.\n",
      "4. 3. **Investigate Weekly Performance:**  Use `weekly_metrics.csv` to perform a similar analysis as step 2, looking for any weeks with significant divergences in `pct_change_week` between Canada and EU. This provides finer-grained insight.\n",
      "5. 4. **Drill Down by Product Category:** Utilize `weekly_product_share.csv` to identify specific product categories or sub-categories driving the profit differential.  Compare `sales` and `pct_share` for Canada and EU across categories.\n",
      "6. 5. **Examine Monthly Changes within Weeks:** Cross-reference `nth_week_monthly_change.csv` with findings from steps 2 and 4.  Focus on `pct_change_mom` to see if specific weeks within months contributed disproportionately to the Canada-EU profit gap.\n"
     ]
    },
    {
     "ename": "NameError",
     "evalue": "name 'generate_sql' is not defined",
     "output_type": "error",
     "traceback": [
      "\u001b[31m---------------------------------------------------------------------------\u001b[39m",
      "\u001b[31mNameError\u001b[39m                                 Traceback (most recent call last)",
      "\u001b[36mCell\u001b[39m\u001b[36m \u001b[39m\u001b[32mIn[11]\u001b[39m\u001b[32m, line 14\u001b[39m\n\u001b[32m     12\u001b[39m \u001b[38;5;66;03m# Step 3: Generate and run SQL for each checklist item\u001b[39;00m\n\u001b[32m     13\u001b[39m \u001b[38;5;28;01mfor\u001b[39;00m step \u001b[38;5;129;01min\u001b[39;00m checklist:\n\u001b[32m---> \u001b[39m\u001b[32m14\u001b[39m     sql = \u001b[43mgenerate_sql\u001b[49m(step)\n\u001b[32m     15\u001b[39m     \u001b[38;5;28mprint\u001b[39m(\u001b[33mf\u001b[39m\u001b[33m\"\u001b[39m\u001b[38;5;130;01m\\n\u001b[39;00m\u001b[33mChecklist Item: \u001b[39m\u001b[38;5;132;01m{\u001b[39;00mstep\u001b[38;5;132;01m}\u001b[39;00m\u001b[33m\"\u001b[39m)\n\u001b[32m     16\u001b[39m     \u001b[38;5;28mprint\u001b[39m(\u001b[33mf\u001b[39m\u001b[33m\"\u001b[39m\u001b[33mSQL:\u001b[39m\u001b[38;5;130;01m\\n\u001b[39;00m\u001b[38;5;132;01m{\u001b[39;00msql\u001b[38;5;132;01m}\u001b[39;00m\u001b[33m\"\u001b[39m)\n",
      "\u001b[31mNameError\u001b[39m: name 'generate_sql' is not defined"
     ]
    }
   ],
   "source": [
    "user_input_pattern = \"More profit in Canada than EU\"\n",
    "\n",
    "# Step 1: Retrieve similar patterns\n",
    "similar = retrieve_similar_patterns(user_input_pattern)\n",
    "\n",
    "# Step 2: Generate checklist\n",
    "checklist = generate_checklist(user_input_pattern, similar)\n",
    "print(\"\\nGenerated Checklist:\")\n",
    "for i, step in enumerate(checklist, 1):\n",
    "    print(f\"{i}. {step}\")\n",
    "\n",
    "# Step 3: Generate and run SQL for each checklist item\n",
    "for step in checklist:\n",
    "    sql = generate_sql(step)\n",
    "    print(f\"\\nChecklist Item: {step}\")\n",
    "    print(f\"SQL:\\n{sql}\")\n",
    "    cols, res = run_sql(sql)\n",
    "    if cols:\n",
    "        print(\"Results:\", res[:5])  \n",
    "    else:\n",
    "        print(\"Error:\", res)"
   ]
  },
  {
   "cell_type": "code",
   "execution_count": null,
   "id": "22901fbc",
   "metadata": {},
   "outputs": [],
   "source": []
  }
 ],
 "metadata": {
  "kernelspec": {
   "display_name": "rca",
   "language": "python",
   "name": "python3"
  },
  "language_info": {
   "codemirror_mode": {
    "name": "ipython",
    "version": 3
   },
   "file_extension": ".py",
   "mimetype": "text/x-python",
   "name": "python",
   "nbconvert_exporter": "python",
   "pygments_lexer": "ipython3",
   "version": "3.13.5"
  }
 },
 "nbformat": 4,
 "nbformat_minor": 5
}

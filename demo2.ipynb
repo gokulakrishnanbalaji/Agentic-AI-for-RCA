{
 "cells": [
  {
   "cell_type": "markdown",
   "id": "178b734b",
   "metadata": {},
   "source": [
    "Import libraries"
   ]
  },
  {
   "cell_type": "code",
   "execution_count": 11,
   "id": "d9a8a035",
   "metadata": {},
   "outputs": [],
   "source": [
    "import os\n",
    "import re\n",
    "import json\n",
    "import sqlite3\n",
    "import chromadb\n",
    "from chromadb.utils import embedding_functions\n",
    "from dotenv import load_dotenv\n",
    "import google.generativeai as genai\n"
   ]
  },
  {
   "cell_type": "markdown",
   "id": "ac44a286",
   "metadata": {},
   "source": [
    "Load API key from .env\n"
   ]
  },
  {
   "cell_type": "code",
   "execution_count": 2,
   "id": "47449ce3",
   "metadata": {},
   "outputs": [],
   "source": [
    "load_dotenv()\n",
    "genai.configure(api_key=os.getenv(\"GEMINI_API_KEY\"))"
   ]
  },
  {
   "cell_type": "markdown",
   "id": "1ae56635",
   "metadata": {},
   "source": [
    "Defining Paths"
   ]
  },
  {
   "cell_type": "code",
   "execution_count": 3,
   "id": "15f1e771",
   "metadata": {},
   "outputs": [],
   "source": [
    "EXAMPLES_PATH = \"data/examples.json\"\n",
    "DB_PATH = \"data/SuperStoreOrders.db\" "
   ]
  },
  {
   "cell_type": "markdown",
   "id": "9476850c",
   "metadata": {},
   "source": [
    "Load examples.json file"
   ]
  },
  {
   "cell_type": "code",
   "execution_count": 4,
   "id": "8160d4d3",
   "metadata": {},
   "outputs": [],
   "source": [
    "with open(EXAMPLES_PATH, \"r\") as f:\n",
    "    examples = json.load(f)"
   ]
  },
  {
   "cell_type": "markdown",
   "id": "b4b0f588",
   "metadata": {},
   "source": [
    "Chroma DB for RAG"
   ]
  },
  {
   "cell_type": "code",
   "execution_count": 5,
   "id": "b9163a72",
   "metadata": {},
   "outputs": [
    {
     "name": "stderr",
     "output_type": "stream",
     "text": [
      "/Users/gokul/miniconda3/envs/rca/lib/python3.13/site-packages/torch/nn/modules/module.py:1762: FutureWarning: `encoder_attention_mask` is deprecated and will be removed in version 4.55.0 for `BertSdpaSelfAttention.forward`.\n",
      "  return forward_call(*args, **kwargs)\n"
     ]
    }
   ],
   "source": [
    "embedding_fn = embedding_functions.SentenceTransformerEmbeddingFunction(model_name=\"all-MiniLM-L6-v2\")\n",
    "client = chromadb.Client()\n",
    "collection = client.create_collection(name=\"patterns\", embedding_function=embedding_fn)\n",
    "\n",
    "# Add examples to vector DB (store checklist as JSON string)\n",
    "\n",
    "for idx, ex in enumerate(examples):\n",
    "    collection.add(\n",
    "        ids=[str(idx)],\n",
    "        documents=[ex[\"pattern\"]],\n",
    "        metadatas=[{\"checklist\": json.dumps(ex[\"checklist\"])}]  # store as string\n",
    "    )\n"
   ]
  },
  {
   "cell_type": "markdown",
   "id": "8b2424fe",
   "metadata": {},
   "source": [
    "Function to retrieve similar patterns"
   ]
  },
  {
   "cell_type": "code",
   "execution_count": 6,
   "id": "afea357a",
   "metadata": {},
   "outputs": [],
   "source": [
    "def retrieve_similar_patterns(user_pattern, top_k=2):\n",
    "    results = collection.query(query_texts=[user_pattern], n_results=top_k)\n",
    "    # Parse checklist string back to list\n",
    "    parsed_results = []\n",
    "    for meta in results[\"metadatas\"]:\n",
    "        checklist = json.loads(meta[0][\"checklist\"]) if meta[0].get(\"checklist\") else []\n",
    "        parsed_results.append({\"checklist\": checklist})\n",
    "    return parsed_results"
   ]
  },
  {
   "cell_type": "markdown",
   "id": "005caf4b",
   "metadata": {},
   "source": [
    "Function to generate checklist, given new pattern"
   ]
  },
  {
   "cell_type": "code",
   "execution_count": 17,
   "id": "17930736",
   "metadata": {},
   "outputs": [],
   "source": [
    "def generate_checklist(user_pattern, retrieved_patterns):\n",
    "    prompt = f\"\"\"\n",
    "You are a root cause analysis assistant.\n",
    "Given the following historical patterns and their checklists:\n",
    "{retrieved_patterns}\n",
    "\n",
    "Now, create a final checklist (only 5 points in checklist) for this new pattern:\n",
    "'{user_pattern}'\n",
    "Checklist should be step-by-step, concise, and relevant to database columns:\n",
    "['order_id', 'order_date', 'ship_date', 'ship_mode', 'customer_name', 'segment', 'state', 'country', 'market', 'region', 'product_id', 'category', 'sub_category', 'product_name', 'sales', 'quantity', 'discount', 'profit', 'shipping_cost', 'order_priority', 'year']\n",
    "    \"\"\"\n",
    "    resp = genai.GenerativeModel(\"gemini-1.5-flash\").generate_content(prompt)\n",
    "    return [item.strip(\"- \").strip() for item in resp.text.split(\"\\n\") if item.strip()]\n"
   ]
  },
  {
   "cell_type": "markdown",
   "id": "096fcfcc",
   "metadata": {},
   "source": [
    "Function to generate SQL query"
   ]
  },
  {
   "cell_type": "code",
   "execution_count": 15,
   "id": "f5bd674e",
   "metadata": {},
   "outputs": [],
   "source": [
    "def generate_sql(checklist_item):\n",
    "    prompt = f\"\"\"\n",
    "You are an expert SQL generator.\n",
    "Write ONE valid SQLite query (no multiple statements, no comments, no placeholders).\n",
    "Use the table 'orders' with columns:\n",
    "['order_id', 'order_date', 'ship_date', 'ship_mode', 'customer_name', 'segment', 'state', 'country', 'market', 'region', 'product_id', 'category', 'sub_category', 'product_name', 'sales', 'quantity', 'discount', 'profit', 'shipping_cost', 'order_priority', 'year']\n",
    "\n",
    "The request is:\n",
    "\"{checklist_item}\"\n",
    "\n",
    "Return ONLY the SQL statement, no explanation, no comments, no markdown.\n",
    "\"\"\"\n",
    "    resp = genai.GenerativeModel(\"gemini-1.5-flash\").generate_content(prompt)\n",
    "    return resp.text.strip()\n"
   ]
  },
  {
   "cell_type": "markdown",
   "id": "9a778007",
   "metadata": {},
   "source": [
    "Function to run SQL query"
   ]
  },
  {
   "cell_type": "code",
   "execution_count": 14,
   "id": "68f71779",
   "metadata": {},
   "outputs": [],
   "source": [
    "\n",
    "def clean_sql(sql):\n",
    "    # Remove SQL comments\n",
    "    sql = re.sub(r\"--.*\", \"\", sql)\n",
    "    # Remove extra spaces\n",
    "    sql = sql.strip()\n",
    "    # Remove code block markers from Gemini output\n",
    "    sql = sql.replace(\"```sql\", \"\").replace(\"```\", \"\").strip()\n",
    "    # Ensure only one statement by splitting on semicolon\n",
    "    if \";\" in sql:\n",
    "        sql = sql.split(\";\")[0]\n",
    "    return sql\n",
    "\n",
    "def run_sql(query):\n",
    "    conn = sqlite3.connect(DB_PATH)\n",
    "    cursor = conn.cursor()\n",
    "    try:\n",
    "        cleaned_query = clean_sql(query)\n",
    "        cursor.execute(cleaned_query)\n",
    "        results = cursor.fetchall()\n",
    "        col_names = [desc[0] for desc in cursor.description]\n",
    "        conn.close()\n",
    "        return col_names, results\n",
    "    except Exception as e:\n",
    "        conn.close()\n",
    "        return None, str(e)\n"
   ]
  },
  {
   "cell_type": "markdown",
   "id": "dae3ba47",
   "metadata": {},
   "source": [
    "Testing with new real life pattern"
   ]
  },
  {
   "cell_type": "code",
   "execution_count": 18,
   "id": "49069571",
   "metadata": {},
   "outputs": [
    {
     "name": "stdout",
     "output_type": "stream",
     "text": [
      "\n",
      "Generated Checklist:\n",
      "1. Final Checklist: Sales Drop in Electronics Category - East Region\n",
      "2. 1. **Quantify the drop:**  Calculate the MoM percentage change in `sales` for the 'Electronics' `category` in the 'East' `region` using `order_date` and `sales` columns.\n",
      "3. 2. **Analyze regional sales trends:** Compare the MoM percentage change in `sales` for 'Electronics' in the 'East' `region` against other `region`s to determine if it's an isolated incident.\n",
      "4. 3. **Investigate promotional activity:** Analyze `discount` levels and frequency for 'Electronics' products in the 'East' `region` using `order_date` and `discount` columns. Compare to previous periods.\n",
      "5. 4. **Examine product performance:** Identify specific `product_name`s (within 'Electronics' category) with the largest sales declines in the 'East' `region` using `product_name`, `sales`, and `region` columns.\n",
      "6. 5. **Assess competitor impact (if data available):** If external data is available, compare the sales trend of 'Electronics' in the 'East' `region` to competitor performance to determine if market-wide factors are at play.\n",
      "\n",
      "Checklist Item: Final Checklist: Sales Drop in Electronics Category - East Region\n",
      "SQL:\n",
      "SELECT SUM(sales) FROM orders WHERE category = 'Technology' AND region = 'East'\n",
      "Results: [(107567.0,)]\n",
      "\n",
      "Checklist Item: 1. **Quantify the drop:**  Calculate the MoM percentage change in `sales` for the 'Electronics' `category` in the 'East' `region` using `order_date` and `sales` columns.\n",
      "SQL:\n",
      "SELECT CAST(SUM(CASE WHEN STRFTIME('%Y-%m', T1.order_date) = STRFTIME('%Y-%m', DATE('now', '-1 month')) THEN T1.sales ELSE 0 END) AS REAL) * 100 / SUM(T1.sales) - 100 FROM orders AS T1 WHERE T1.category = 'Electronics' AND T1.region = 'East' AND STRFTIME('%Y-%m', T1.order_date) IN (STRFTIME('%Y-%m', DATE('now', '-1 month')), STRFTIME('%Y-%m', DATE('now')))\n",
      "Results: [(None,)]\n",
      "\n",
      "Checklist Item: 2. **Analyze regional sales trends:** Compare the MoM percentage change in `sales` for 'Electronics' in the 'East' `region` against other `region`s to determine if it's an isolated incident.\n",
      "SQL:\n",
      "SELECT T1.region, STRFTIME('%Y-%m',T1.order_date) AS sales_month, SUM(T1.sales) AS total_sales, (SUM(T1.sales) - LAG(SUM(T1.sales), 1, 0) OVER (PARTITION BY T1.region ORDER BY STRFTIME('%Y-%m',T1.order_date))) * 100.0 / LAG(SUM(T1.sales), 1, 1) OVER (PARTITION BY T1.region ORDER BY STRFTIME('%Y-%m',T1.order_date)) AS mom_percentage_change FROM orders T1 WHERE T1.category = 'Electronics' GROUP BY T1.region, sales_month ORDER BY T1.region, sales_month\n",
      "Results: []\n",
      "\n",
      "Checklist Item: 3. **Investigate promotional activity:** Analyze `discount` levels and frequency for 'Electronics' products in the 'East' `region` using `order_date` and `discount` columns. Compare to previous periods.\n",
      "SQL:\n",
      "SELECT order_date, discount, SUM(sales) AS total_sales FROM orders WHERE category = 'Technology' AND region = 'East' GROUP BY order_date, discount ORDER BY order_date\n",
      "Results: [('1900-01-01', 0.0, 34475.0), ('1900-01-01', 0.2, 7817.0), ('1900-01-01', 0.4, 15304.0), ('1900-01-01', 0.7, 2073.0), ('2011-01-03', 0.0, 6.0)]\n",
      "\n",
      "Checklist Item: 4. **Examine product performance:** Identify specific `product_name`s (within 'Electronics' category) with the largest sales declines in the 'East' `region` using `product_name`, `sales`, and `region` columns.\n",
      "SQL:\n",
      "SELECT product_name,SUM(sales) AS total_sales FROM orders WHERE category = 'Technology' AND region = 'East' GROUP BY product_name ORDER BY total_sales ASC LIMIT 1\n",
      "Results: [('3D Systems Cube Printer, 2nd Generation, Magenta', 0.0)]\n",
      "\n",
      "Checklist Item: 5. **Assess competitor impact (if data available):** If external data is available, compare the sales trend of 'Electronics' in the 'East' `region` to competitor performance to determine if market-wide factors are at play.\n",
      "SQL:\n",
      "SELECT SUM(CASE WHEN T1.region = 'East' THEN T1.sales ELSE 0 END) AS east_electronics_sales FROM orders AS T1 INNER JOIN (SELECT DISTINCT product_name FROM orders WHERE category = 'Electronics') AS T2 ON T1.product_name = T2.product_name\n",
      "Results: [(None,)]\n"
     ]
    }
   ],
   "source": [
    "user_input_pattern = \"Sales drop in electronics category in the east region\"\n",
    "\n",
    "# Step 1: Retrieve similar patterns\n",
    "similar = retrieve_similar_patterns(user_input_pattern)\n",
    "\n",
    "# Step 2: Generate checklist\n",
    "checklist = generate_checklist(user_input_pattern, similar)\n",
    "print(\"\\nGenerated Checklist:\")\n",
    "for i, step in enumerate(checklist, 1):\n",
    "    print(f\"{i}. {step}\")\n",
    "\n",
    "# Step 3: Generate and run SQL for each checklist item\n",
    "for step in checklist:\n",
    "    sql = generate_sql(step)\n",
    "    print(f\"\\nChecklist Item: {step}\")\n",
    "    print(f\"SQL:\\n{sql}\")\n",
    "    cols, res = run_sql(sql)\n",
    "    if cols:\n",
    "        print(\"Results:\", res[:5])  # Show first 5 rows\n",
    "    else:\n",
    "        print(\"Error:\", res)"
   ]
  },
  {
   "cell_type": "code",
   "execution_count": null,
   "id": "bd3a8b15",
   "metadata": {},
   "outputs": [],
   "source": []
  }
 ],
 "metadata": {
  "kernelspec": {
   "display_name": "rca",
   "language": "python",
   "name": "python3"
  },
  "language_info": {
   "codemirror_mode": {
    "name": "ipython",
    "version": 3
   },
   "file_extension": ".py",
   "mimetype": "text/x-python",
   "name": "python",
   "nbconvert_exporter": "python",
   "pygments_lexer": "ipython3",
   "version": "3.13.5"
  }
 },
 "nbformat": 4,
 "nbformat_minor": 5
}
